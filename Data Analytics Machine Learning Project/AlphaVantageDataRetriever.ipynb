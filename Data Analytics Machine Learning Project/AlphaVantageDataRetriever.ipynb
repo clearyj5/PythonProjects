{
 "cells": [
  {
   "cell_type": "markdown",
   "metadata": {},
   "source": [
    "Data is retrieved from the Alpha Vantage API using the below code:"
   ]
  },
  {
   "cell_type": "code",
   "execution_count": 6,
   "metadata": {},
   "outputs": [
    {
     "name": "stdout",
     "output_type": "stream",
     "text": [
      "Stock data for AAPL saved to: AAPL_data.csv\n",
      "Stock data for MSFT saved to: MSFT_data.csv\n",
      "Stock data for BP saved to: BP_data.csv\n",
      "Stock data for KO saved to: KO_data.csv\n",
      "Stock data for BTC saved to: BTC_data.csv\n",
      "Stock data for SPY saved to: SPY_data.csv\n"
     ]
    }
   ],
   "source": [
    "import requests\n",
    "import csv\n",
    "import matplotlib.pyplot as plt\n",
    "from datetime import *\n",
    "\n",
    "# Replace 'YOUR_API_KEY' with your actual API key from Alpha Vantage\n",
    "api_key = 'YOUR_API_KEY'\n",
    "today = datetime.today()\n",
    "end_date = today.strftime(\"%Y-%m-%d\")\n",
    "start_date = (today - timedelta(days=365 * 10)).strftime(\"%Y-%m-%d\")\n",
    "\n",
    "# Function to get daily stock data for a given symbol and date range\n",
    "def get_daily_data(symbol, start_date, end_date, api_key):\n",
    "  url = f\"https://www.alphavantage.co/query?function=TIME_SERIES_DAILY&symbol={symbol}&apikey={api_key}&datatype=csv&outputsize=full&startDate={start_date}&endDate={end_date}\"\n",
    "  response = requests.get(url)\n",
    "  return response.text\n",
    "\n",
    "# Function to get create csv with daily stock data\n",
    "def create_stock_data_csv(symbol, start_date, end_date, api_key):\n",
    "  data = get_daily_data(symbol, start_date, end_date, api_key)\n",
    "  # Create a filename with symbol and date range\n",
    "  filename = f\"{symbol}_data.csv\"\n",
    "\n",
    "  # Write the data to the CSV file\n",
    "  with open(filename, \"w\") as f:\n",
    "    f.write(data)\n",
    "\n",
    "  print(f\"Stock data for {symbol} saved to: {filename}\")\n",
    "\n",
    "tickers = ['AAPL', 'MSFT', 'BP', 'KO', 'BTC', 'SPY']\n",
    "\n",
    "for symbol in tickers:\n",
    "  create_stock_data_csv(symbol, start_date, end_date, api_key)"
   ]
  }
 ],
 "metadata": {
  "kernelspec": {
   "display_name": "Python 3",
   "language": "python",
   "name": "python3"
  },
  "language_info": {
   "codemirror_mode": {
    "name": "ipython",
    "version": 3
   },
   "file_extension": ".py",
   "mimetype": "text/x-python",
   "name": "python",
   "nbconvert_exporter": "python",
   "pygments_lexer": "ipython3",
   "version": "3.12.3"
  }
 },
 "nbformat": 4,
 "nbformat_minor": 2
}
